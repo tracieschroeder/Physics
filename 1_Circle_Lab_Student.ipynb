{
  "cells": [
    {
      "cell_type": "markdown",
      "metadata": {
        "id": "view-in-github",
        "colab_type": "text"
      },
      "source": [
        "<a href=\"https://colab.research.google.com/github/tracieschroeder/Physics/blob/main/1_Circle_Lab_Student.ipynb\" target=\"_parent\"><img src=\"https://colab.research.google.com/assets/colab-badge.svg\" alt=\"Open In Colab\"/></a>"
      ]
    },
    {
      "cell_type": "markdown",
      "source": [
        "#The Circle Lab\n",
        "##Objectives:\n",
        "*   Introduce lab procedures and expectations\n",
        "*   Learn to take careful measurements\n",
        "*   Represent data in multiple ways\n",
        "*   Interpret a scatter plot\n",
        "*   Summarize lab results\n",
        "\n",
        "The big question in this activity is whether or not increasing the diameter of a circle has a predictable effect on the circumference of a circle\n"
      ],
      "metadata": {
        "id": "9arY1FIM1wWZ"
      }
    },
    {
      "cell_type": "markdown",
      "source": [
        "##The Experimental Setup:\n",
        "1.\tLocate a circle.\n",
        "2.\tEach partner measure the diameter of the circle. Record the diameter in both centimeters and inches.\n",
        "3.\tEach partner measure the circumference of the circle in centimeters. Record the circumference in both centimeters and inches.\n",
        "4.\tRepeat for six more circles."
      ],
      "metadata": {
        "id": "AxWGBXJt29Jg"
      }
    },
    {
      "cell_type": "markdown",
      "metadata": {
        "id": "r4Z1gpGycSu5"
      },
      "source": [
        "# Google Colab. How does it work? Why do I have to do it?\n",
        "Google Colaboratory is a web-based program that allows us to write and execute code in the Python programming language. (Fun fact, Python is not named after the snake, but Monty Python's Flying Circus. The more you know.)\n",
        "\n",
        "There are two types of editors in Colab. The first is a text box. Like this. You can type text and your computer will ignore everything in the box when it runs your code. The second is a code box. This is where you type the code for the computer to read.\n",
        "\n",
        "Because I said so. Just kidding. Sort of. Coding is not just a skill that can open doors, it is a way of thinking that allows you to make sense of the things around you."
      ]
    },
    {
      "cell_type": "markdown",
      "metadata": {
        "id": "aNRM_68VmOmB"
      },
      "source": [
        "## Importing Libraries\n",
        "Colab doesn't really have much in the way of functions in and of itself, but it allows you to import many different coding libraries. These libraries are essentially software packages the allow you to perform different functions within your program.\n",
        "\n",
        "Click the \"play\" button on the left side of the code cell below."
      ]
    },
    {
      "cell_type": "code",
      "metadata": {
        "id": "aGuRZ8xlxdTa"
      },
      "source": [
        "# Import software packages (not too exciting)\n",
        "# You will at least need pandas, numpy, matplotlib, and pyplot\n",
        "# this cell only needs to be run once, but re-exectuing it doesn't hurt anything either\n",
        "import pandas as pd\n",
        "import numpy as np\n",
        "%matplotlib inline\n",
        "import matplotlib as mpl\n",
        "import matplotlib.pyplot as plt\n",
        "\n",
        "#NOTE: Putting a hashtag at the beginning makes this a comment and turns it green.\n",
        "#Comments are for the humans. Computers don't really care about humans and will ignore the comments when the code runs"
      ],
      "execution_count": 2,
      "outputs": []
    },
    {
      "cell_type": "markdown",
      "metadata": {
        "id": "jVcf5Fz-jBGu"
      },
      "source": [
        "### What does all of this mean?\n",
        "\n",
        "![link text](https://alansimpson.me/python/cheatsheets/pandasbasics/pandasbasics256.jpg)\n",
        "\n",
        "`import pandas as pd`\n",
        "\n",
        "  **pandas** is an open source, BSD-licensed library providing high-performance, easy-to-use data structures and data analysis tools for the Python programming language\n",
        "# [pandas Documentation](https://pandas.pydata.org/docs/user_guide/index.html)\n",
        "\n",
        "![link text](https://res.cloudinary.com/crunchbase-production/image/upload/c_lpad,h_256,w_256,f_auto,q_auto:eco/gxgj1nsz0eq3rg13j7kk)\n",
        "\n",
        "`import numpy as np`\n",
        "\n",
        "  **numpy** is a library for the Python programming language, adding support for large, multi-dimensional arrays and matrices, along with a large collection of high-level mathematical functions to operate on these arrays.\n",
        "# [numpy Documentation](https://numpy.org/doc/stable/)\n",
        "\n",
        "![link text](https://upload.wikimedia.org/wikipedia/commons/0/01/Created_with_Matplotlib-logo.svg)\n",
        "```\n",
        "import matplotlib as mpl\n",
        "import matplotlib.pyplot as plt\n",
        "```\n",
        " **matplotlib** is a plotting library for the Python programming language and its numerical mathematics extension NumPy. It provides an object-oriented API for embedding plots into applications\n",
        "\n",
        "# [matplotlib Documentation](https://matplotlib.org/stable/contents.html)\n",
        "\n",
        "**This section has been shamelessly stolen from Brian Burcham. Thanks Brian!**"
      ]
    },
    {
      "cell_type": "markdown",
      "metadata": {
        "id": "f0WQ3KYvnhvy"
      },
      "source": [
        "#**Learning Check!**\n",
        "\n",
        "Notice that we are importing each library as something else. Why do you think we are doing that? (Write your answer here!)"
      ]
    },
    {
      "cell_type": "markdown",
      "metadata": {
        "id": "fkUpwvCrA8kE"
      },
      "source": [
        "# Making Graphs: Data Table\n",
        "In this activity, you'll add your diameter and circumference data to create a graph of the releationship.\n",
        "\n",
        "In this lab, we have measured the diameter and the circumference of several different circles. In this graph, we are going to plot the diameter on the x-axis and the circumference on the y-axis."
      ]
    },
    {
      "cell_type": "markdown",
      "source": [
        "Look at lines 1 and 2 of the code cell below. x is what we are calling the data being plotted on the x-axis. Those numbers are enclosed in the brackets. In computer talk, this is called an **array**. Line 2 is the list of data that we want to plot on the y-axis.\n",
        "\n",
        "Notice that each array has the same number of data points."
      ],
      "metadata": {
        "id": "MwPfKruM7jpT"
      }
    },
    {
      "cell_type": "code",
      "execution_count": 3,
      "metadata": {
        "id": "dxV437k1UJE-",
        "colab": {
          "base_uri": "https://localhost:8080/",
          "height": 472
        },
        "outputId": "4afeb478-3016-41c2-cba5-87f75548cae6"
      },
      "outputs": [
        {
          "output_type": "display_data",
          "data": {
            "text/plain": [
              "<Figure size 640x480 with 1 Axes>"
            ],
            "image/png": "[encoded data removed]"
          },
          "metadata": {}
        }
      ],
      "source": [
        "x = [0,1,2,3,4,5,6] #Change these numbers to the measured data for the diameters of your circles\n",
        "y = [0,1,2,3,4,5,6] #Change these numbers to the measured data for the circumferences of your circles\n",
        "\n",
        "#Once you have your data entered in Lines 1 and 2, run this code block\n",
        "\n",
        "plt.scatter(x, y, marker='v', color='r')  #add points to the graph using the v marker and red color\n",
        "plt.title('Scatter Plot Example')\n",
        "plt.xlabel(\"Fix Me\")\n",
        "plt.ylabel(\"Me Too!\")\n",
        "plt.show()\n"
      ]
    },
    {
      "cell_type": "markdown",
      "source": [
        "##**Learning Check!**\n",
        "\n",
        "Notice the title of your graph. Rename the graph so that the title reads \"Circumference vs Diameter\"\n",
        "\n",
        "Give appropriate labels to the axes. Include the units!\n",
        "\n",
        "What is \"plt\" doing in the code?\n",
        "\n",
        "Which line of code is actually plotting the data?"
      ],
      "metadata": {
        "id": "DSlwHNJC8SFg"
      }
    },
    {
      "cell_type": "markdown",
      "metadata": {
        "id": "-5FZFaQm8pBe"
      },
      "source": [
        "##**Add a best fit line to the graph.**\n",
        "\n",
        "1. *Copy your data from the code cell above to Lines 1 and 2.* Run the code and you should get the same graph as you did above.\n",
        "\n",
        "2. Look at Line 10. It is followed by two more comments. Delete the hashtags at the beginning of Lines 11 and 12. Run the code again.\n",
        "\n",
        "3. Add the equation of the line to the graph as a legend."
      ]
    },
    {
      "cell_type": "code",
      "execution_count": 4,
      "metadata": {
        "id": "AnLyYdyr8sCh",
        "colab": {
          "base_uri": "https://localhost:8080/",
          "height": 472
        },
        "outputId": "8c1062ff-6f0f-4e69-dd90-f2fbdcaf6a53"
      },
      "outputs": [
        {
          "output_type": "display_data",
          "data": {
            "text/plain": [
              "<Figure size 640x480 with 1 Axes>"
            ],
            "image/png": "[encoded data removed]"
          },
          "metadata": {}
        }
      ],
      "source": [
        "#Copy your data from the code cell above to Lines 1 and 2\n",
        "x = [0,1,2,3,4,5,6]\n",
        "y = [0,1,2,3,4,5,6]\n",
        "\n",
        "plt.scatter(x, y, marker='v', color='r')\n",
        "plt.title('Scatter Plot Example')\n",
        "plt.xlabel(\"Fix Me\")\n",
        "plt.ylabel(\"Me Too!\");\n",
        "\n",
        "#Delete the hashtags at the front of the line to add a best fit line\n",
        "#m, b = np.polyfit(x, y, deg=1)\n",
        "#plt.axline(xy1=(0, b), slope=m, label=f'y = {m:.1f}x {b:+.1f}', color='r')\n",
        "\n",
        "#Adding some text to the graph\n",
        "#plt.text(0,8, 'c = ' + '({:.2f}'.format(m) + 'm/m) ' + 'd + ' + '{:.2f}'.format(b) + 'm', size=14)\n",
        "\n",
        "plt.show()"
      ]
    },
    {
      "cell_type": "markdown",
      "metadata": {
        "id": "2xdO4SfUVsac"
      },
      "source": [
        "##**Coding Challenge**\n",
        "- Change the line color to blue\n",
        "- Change the markers to *\n",
        "- Move the equation so that it is closer to the line on the graph\n",
        "- Change the label of the slope to cm/cm instead of m/m and the label of the intercept to cm instead of m."
      ]
    },
    {
      "cell_type": "markdown",
      "source": [
        "##**Learning Check!**\n",
        "\n",
        "Look at the code from Line 9: m, b = np.polyfit(x, y, deg=1)\n",
        "\n",
        "What is each part of this code telling the computer to do with the data?"
      ],
      "metadata": {
        "id": "AeTzpp6w94Hw"
      }
    },
    {
      "cell_type": "markdown",
      "source": [
        "#**Graph 2**\n",
        "\n",
        "1. Repeat the data collection using inches instead of centimeters on six circles. Make some of the circles the same that you measured in the first round, but also choose some different ones.\n",
        "\n",
        "2. Create a circumference vs diameter graph of the new data set in a code block below.\n"
      ],
      "metadata": {
        "id": "eiiKI-M9Moh_"
      }
    },
    {
      "cell_type": "code",
      "source": [
        "#Create a graph of the new data here!"
      ],
      "metadata": {
        "id": "MjwxVeK9NEGp"
      },
      "execution_count": 5,
      "outputs": []
    },
    {
      "cell_type": "markdown",
      "metadata": {
        "id": "t6SPK6unq69E"
      },
      "source": [
        "#**Discussion Questions**\n",
        "\n",
        "1. What is the slope of your graph? Does this look like anything you have seen before?\n",
        "\n",
        "2. What is the value of the y-intercept? Does this number make sense?\n",
        "\n",
        "3. Write the equation in sentence form.\n",
        "\n",
        "2. How do the two equations compare? Is this what you would expect? Why or why not?"
      ]
    },
    {
      "cell_type": "markdown",
      "source": [
        "This notebook was designed by [Tracie Schroeder](https://github.com/tracieschroeder)."
      ],
      "metadata": {
        "id": "Dgs7aPb7u_YN"
      }
    }
  ],
  "metadata": {
    "colab": {
      "collapsed_sections": [
        "8tUG_sHorh4c"
      ],
      "provenance": [],
      "toc_visible": true,
      "include_colab_link": true
    },
    "kernelspec": {
      "display_name": "Python 3",
      "language": "python",
      "name": "python3"
    },
    "language_info": {
      "codemirror_mode": {
        "name": "ipython",
        "version": 3
      },
      "file_extension": ".py",
      "mimetype": "text/x-python",
      "name": "python",
      "nbconvert_exporter": "python",
      "pygments_lexer": "ipython3",
      "version": "3.7.4"
    }
  },
  "nbformat": 4,
  "nbformat_minor": 0
}