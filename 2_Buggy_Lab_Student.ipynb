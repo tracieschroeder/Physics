{
  "cells": [
    {
      "cell_type": "markdown",
      "metadata": {
        "id": "view-in-github",
        "colab_type": "text"
      },
      "source": [
        "<a href=\"https://colab.research.google.com/github/tracieschroeder/Physics/blob/main/2_Buggy_Lab_Student.ipynb\" target=\"_parent\"><img src=\"https://colab.research.google.com/assets/colab-badge.svg\" alt=\"Open In Colab\"/></a>"
      ]
    },
    {
      "cell_type": "markdown",
      "source": [
        "#**The Buggy Lab**\n",
        "Objective:  To determine how the position of a battery powered buggy car depends on time."
      ],
      "metadata": {
        "id": "RqZ3EdwHKG6U"
      }
    },
    {
      "cell_type": "markdown",
      "source": [
        "##**The Experimental Setup:**\n",
        "1.\tMark the starting point on the floor using a piece of masking tape. (This is the 0 cm point.) When you begin, the front of the car should be at the starting point.\n",
        "2.\tAs the timer reads the time aloud the marker should mark the position of the front of the car with a small piece of masking tape.\n",
        "3.\tTake at least 5 data points.\n",
        "4.\tMeasure the displacement of all the marks from the starting point and record the data in data table.\n"
      ],
      "metadata": {
        "id": "DFC0fm1PKbNb"
      }
    },
    {
      "cell_type": "markdown",
      "metadata": {
        "id": "fkUpwvCrA8kE"
      },
      "source": [
        "#Position Time Graphs\n"
      ]
    },
    {
      "cell_type": "markdown",
      "metadata": {
        "id": "GHIc87dS6Yyf"
      },
      "source": [
        "##**Plot data that you collect**\n",
        "\n",
        "In this example, we have measured the position of an object moving in one dimension. We can plot this as a position-time graph.\n",
        "\n",
        "In this case, time will be on the x-axis and the position will be on the y-axis."
      ]
    },
    {
      "cell_type": "code",
      "execution_count": 2,
      "metadata": {
        "id": "TkBhTkHjP3Jr"
      },
      "outputs": [],
      "source": [
        "# imports software packages\n",
        "import pandas as pd\n",
        "import numpy as np\n",
        "%matplotlib inline\n",
        "import matplotlib as mpl\n",
        "import matplotlib.pyplot as plt"
      ]
    },
    {
      "cell_type": "code",
      "execution_count": 6,
      "metadata": {
        "id": "AnLyYdyr8sCh",
        "colab": {
          "base_uri": "https://localhost:8080/",
          "height": 472
        },
        "outputId": "ddf0643c-6c47-4921-abc8-46a03cb16314"
      },
      "outputs": [
        {
          "output_type": "display_data",
          "data": {
            "text/plain": [
              "<Figure size 640x480 with 1 Axes>"
            ],
            "image/png": "[encoded data removed]"
          },
          "metadata": {}
        }
      ],
      "source": [
        "x = [0,1,2,3,4,5,6]\n",
        "y = [0,1,2,3,4,5,6]\n",
        "\n",
        "#add points to the graph using the v marker and red color\n",
        "plt.scatter(x, y, marker='v', color='r')\n",
        "plt.title('This is a terrible title')\n",
        "plt.xlabel(\"Fix Me\")\n",
        "plt.ylabel(\"Me Too!\");\n",
        "\n",
        "#Uncheck the hashtags to add a best fit line\n",
        "#m, b = np.polyfit(x, y, deg=1)\n",
        "#plt.axline(xy1=(0, b), slope=m, label=f'y = {m:.1f}x {b:+.1f}', color='r')\n",
        "\n",
        "#Adding some text to the graph\n",
        "#You can either use the plt.text function (uncheck the hashtag to see it working)\n",
        "#plt.text(0,8, 'xf = ' + '({:.2f}'.format(m) + 'm/s) ' + 't + ' + '{:.2f}'.format(b) + 'm', size=14)\n",
        "\n",
        "plt.show()"
      ]
    },
    {
      "cell_type": "markdown",
      "metadata": {
        "id": "t6SPK6unq69E"
      },
      "source": [
        "##**Discussion Questions**\n",
        "\n",
        "1.   What is the slope of your graph? What property is being described by the slope?\n",
        "2. What is the value of the y-intercept? Does this number make sense?\n",
        "3. Write the slope form equation for the best fit line.\n",
        "4. Write the equation in sentence form.\n",
        "\n",
        "\n",
        "\n"
      ]
    },
    {
      "cell_type": "markdown",
      "metadata": {
        "id": "2xdO4SfUVsac"
      },
      "source": [
        "##**Part II**\n",
        "Create a second set of data for the buggy car starting away from the reference point and moving towards it. Plot this line on the same graph.\n",
        "\n",
        "Make the line a different color and use a different marker style.\n",
        "\n",
        "Determine the equation for this line."
      ]
    },
    {
      "cell_type": "markdown",
      "source": [
        "##**Discussion Questions**\n",
        "\n",
        "1. What are the two ways in which the slopes are different?\n",
        "2. What is the value of the y-intercept? Does this number make sense?\n",
        "3. At what position would the two cars meet?\n",
        "4. At what time would the two cars meet?\n"
      ],
      "metadata": {
        "id": "oGYTuOKrG7xJ"
      }
    },
    {
      "cell_type": "markdown",
      "metadata": {
        "id": "RiCvvrFnP3Jl"
      },
      "source": [
        "#**Constant Velocity Model**\n",
        "In this activity, you'll use the *position function* to model constant motion and compare it to the data from the Buggy Lab."
      ]
    },
    {
      "cell_type": "markdown",
      "metadata": {
        "id": "EDPLAYodP3Ju"
      },
      "source": [
        "The code in the next box sets values for some parameters of motion.\n",
        "- What is the initial position? What's the name of the variable stores that value?\n",
        "- Edit the text below with the proper SI units for each quantity. Re-run the code to make sure your like your edits.\n",
        "\n",
        "These coefficients can be used to predict the motion using the *position function*. The position function is an equation that predicts the position of an object moving with a constant velocity:\n",
        "$$x_f=v t+x_i$$\n",
        "The variables are:\n",
        "- final position, $x_f$\n",
        "- initial position, $x_i$\n",
        "- time, $t$\n"
      ]
    },
    {
      "cell_type": "code",
      "execution_count": 5,
      "metadata": {
        "id": "-6ydpTDWP3Jt",
        "colab": {
          "base_uri": "https://localhost:8080/"
        },
        "outputId": "6c74ca1f-16d0-4a6c-f128-1f264797e0f6"
      },
      "outputs": [
        {
          "output_type": "stream",
          "name": "stdout",
          "text": [
            "initial position = 0 m\n",
            " velocity = 3 m/s\n"
          ]
        }
      ],
      "source": [
        "# this sets the coefficients\n",
        "xi = 0  #Where did the car start?\n",
        "v = 3   #This is the velocity of the ball\n",
        "print(\"initial position =\", xi, \"m\")\n",
        "print(\" velocity =\", v, \"m/s\")"
      ]
    },
    {
      "cell_type": "code",
      "execution_count": 4,
      "metadata": {
        "id": "jser7oYaP3Jv",
        "colab": {
          "base_uri": "https://localhost:8080/",
          "height": 472
        },
        "outputId": "7f277595-5fcb-4ce7-91b7-3e3b1375bbe4"
      },
      "outputs": [
        {
          "output_type": "display_data",
          "data": {
            "text/plain": [
              "<Figure size 640x480 with 1 Axes>"
            ],
            "image/png": "[encoded data removed]"
          },
          "metadata": {}
        }
      ],
      "source": [
        "# makes an empty position/time data set from the model\n",
        "time_list = []\n",
        "position_list = []\n",
        "t = 0               # sets a starting value for time\n",
        "\n",
        "while (t < 11):                   # runs the 4 lines below until time is not < 11\n",
        "    time_list.append(t)           # saves the time value\n",
        "    xf = xi + v*t                 # calculates xf\n",
        "    position_list.append(xf)      # saves xf as the position value\n",
        "    t = t + 0.1\n",
        "\n",
        "#   this creates a scatterplot: plt.scatter(x-variable, y-variable)\n",
        "plt.scatter(time_list, position_list)\n",
        "plt.title(\"I'm a title\")\n",
        "plt.xlabel(\"Fix Me\")\n",
        "plt.ylabel(\"Me Too!\");"
      ]
    },
    {
      "cell_type": "markdown",
      "metadata": {
        "id": "4ks50swyP3Jw"
      },
      "source": [
        "\n",
        "The code above makes a graph of a *position function*.\n",
        "- How does the shape of the graph compare to the data that you took in the Buggy Lab?\n",
        "- Edit the coefficients in the second code cell to model the different types of motion below. You'll need to re-run that code to store the new values in your coefficients. Then, re-run the graph code to see the new graph.\n",
        "    - Model constant speed motion at 5 m/s.\n",
        "    - Model the motion of an object moving in the negative direction with a constant speed\n",
        "    - Model the motion of an object starting on the negative side of the reference point moving in the positive direction."
      ]
    },
    {
      "cell_type": "markdown",
      "metadata": {
        "id": "rFJyp8e29oMA"
      },
      "source": [
        "\n",
        "## Coding Challenge\n",
        "- Try making a graph that plots motion every 0.5 seconds.\n",
        "- Try plotting 20 seconds of data.\n",
        "- Use the code cell below to create all four of the above graphs in one place.\n"
      ]
    }
  ],
  "metadata": {
    "colab": {
      "collapsed_sections": [
        "8tUG_sHorh4c"
      ],
      "provenance": [],
      "toc_visible": true,
      "include_colab_link": true
    },
    "kernelspec": {
      "display_name": "Python 3",
      "language": "python",
      "name": "python3"
    },
    "language_info": {
      "codemirror_mode": {
        "name": "ipython",
        "version": 3
      },
      "file_extension": ".py",
      "mimetype": "text/x-python",
      "name": "python",
      "nbconvert_exporter": "python",
      "pygments_lexer": "ipython3",
      "version": "3.7.4"
    }
  },
  "nbformat": 4,
  "nbformat_minor": 0
}